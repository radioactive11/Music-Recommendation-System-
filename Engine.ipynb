{
 "cells": [
  {
   "cell_type": "code",
   "execution_count": 1,
   "metadata": {},
   "outputs": [],
   "source": [
    "import pandas as pd \n",
    "import numpy as np\n",
    "from sys import getsizeof"
   ]
  },
  {
   "cell_type": "code",
   "execution_count": 2,
   "metadata": {},
   "outputs": [],
   "source": [
    "df = pd.read_csv(\"meta/meta.csv\")"
   ]
  },
  {
   "cell_type": "code",
   "execution_count": 3,
   "metadata": {},
   "outputs": [
    {
     "data": {
      "text/html": [
       "<div>\n",
       "<style scoped>\n",
       "    .dataframe tbody tr th:only-of-type {\n",
       "        vertical-align: middle;\n",
       "    }\n",
       "\n",
       "    .dataframe tbody tr th {\n",
       "        vertical-align: top;\n",
       "    }\n",
       "\n",
       "    .dataframe thead th {\n",
       "        text-align: right;\n",
       "    }\n",
       "</style>\n",
       "<table border=\"1\" class=\"dataframe\">\n",
       "  <thead>\n",
       "    <tr style=\"text-align: right;\">\n",
       "      <th></th>\n",
       "      <th>id</th>\n",
       "      <th>name</th>\n",
       "      <th>artists</th>\n",
       "      <th>full_name</th>\n",
       "      <th>explicit</th>\n",
       "    </tr>\n",
       "  </thead>\n",
       "  <tbody>\n",
       "    <tr>\n",
       "      <th>0</th>\n",
       "      <td>0</td>\n",
       "      <td>death bed (coffee for your head) (feat. beabad...</td>\n",
       "      <td>Powfu, beabadoobee</td>\n",
       "      <td>death bed (coffee for your head) (feat. beabad...</td>\n",
       "      <td>0</td>\n",
       "    </tr>\n",
       "    <tr>\n",
       "      <th>1</th>\n",
       "      <td>1</td>\n",
       "      <td>THE SCOTTS</td>\n",
       "      <td>THE SCOTTS, Travis Scott, Kid Cudi</td>\n",
       "      <td>THE SCOTTS THE SCOTTS, Travis Scott, Kid Cudi</td>\n",
       "      <td>1</td>\n",
       "    </tr>\n",
       "    <tr>\n",
       "      <th>2</th>\n",
       "      <td>2</td>\n",
       "      <td>The Box</td>\n",
       "      <td>Roddy Ricch</td>\n",
       "      <td>The Box Roddy Ricch</td>\n",
       "      <td>1</td>\n",
       "    </tr>\n",
       "    <tr>\n",
       "      <th>3</th>\n",
       "      <td>3</td>\n",
       "      <td>ily (i love you baby) (feat. Emilee)</td>\n",
       "      <td>Surf Mesa, Emilee</td>\n",
       "      <td>ily (i love you baby) (feat. Emilee) Surf Mesa...</td>\n",
       "      <td>0</td>\n",
       "    </tr>\n",
       "    <tr>\n",
       "      <th>4</th>\n",
       "      <td>4</td>\n",
       "      <td>Supalonely</td>\n",
       "      <td>BENEE, Gus Dapperton</td>\n",
       "      <td>Supalonely BENEE, Gus Dapperton</td>\n",
       "      <td>1</td>\n",
       "    </tr>\n",
       "  </tbody>\n",
       "</table>\n",
       "</div>"
      ],
      "text/plain": [
       "   id                                               name  \\\n",
       "0   0  death bed (coffee for your head) (feat. beabad...   \n",
       "1   1                                         THE SCOTTS   \n",
       "2   2                                            The Box   \n",
       "3   3               ily (i love you baby) (feat. Emilee)   \n",
       "4   4                                         Supalonely   \n",
       "\n",
       "                              artists  \\\n",
       "0                  Powfu, beabadoobee   \n",
       "1  THE SCOTTS, Travis Scott, Kid Cudi   \n",
       "2                         Roddy Ricch   \n",
       "3                   Surf Mesa, Emilee   \n",
       "4                BENEE, Gus Dapperton   \n",
       "\n",
       "                                           full_name  explicit  \n",
       "0  death bed (coffee for your head) (feat. beabad...         0  \n",
       "1      THE SCOTTS THE SCOTTS, Travis Scott, Kid Cudi         1  \n",
       "2                                The Box Roddy Ricch         1  \n",
       "3  ily (i love you baby) (feat. Emilee) Surf Mesa...         0  \n",
       "4                    Supalonely BENEE, Gus Dapperton         1  "
      ]
     },
     "execution_count": 3,
     "metadata": {},
     "output_type": "execute_result"
    }
   ],
   "source": [
    "song_names = pd.read_csv(\"meta/name.csv\")\n",
    "song_names.head()"
   ]
  },
  {
   "cell_type": "code",
   "execution_count": 4,
   "metadata": {},
   "outputs": [
    {
     "data": {
      "text/html": [
       "<div>\n",
       "<style scoped>\n",
       "    .dataframe tbody tr th:only-of-type {\n",
       "        vertical-align: middle;\n",
       "    }\n",
       "\n",
       "    .dataframe tbody tr th {\n",
       "        vertical-align: top;\n",
       "    }\n",
       "\n",
       "    .dataframe thead th {\n",
       "        text-align: right;\n",
       "    }\n",
       "</style>\n",
       "<table border=\"1\" class=\"dataframe\">\n",
       "  <thead>\n",
       "    <tr style=\"text-align: right;\">\n",
       "      <th></th>\n",
       "      <th>acousticness</th>\n",
       "      <th>danceability</th>\n",
       "      <th>energy</th>\n",
       "      <th>instrumentalness</th>\n",
       "      <th>liveness</th>\n",
       "      <th>speechiness</th>\n",
       "    </tr>\n",
       "  </thead>\n",
       "  <tbody>\n",
       "    <tr>\n",
       "      <th>0</th>\n",
       "      <td>0.7310</td>\n",
       "      <td>0.726</td>\n",
       "      <td>0.431</td>\n",
       "      <td>0.00000</td>\n",
       "      <td>0.696</td>\n",
       "      <td>0.1350</td>\n",
       "    </tr>\n",
       "    <tr>\n",
       "      <th>1</th>\n",
       "      <td>0.2330</td>\n",
       "      <td>0.716</td>\n",
       "      <td>0.537</td>\n",
       "      <td>0.00000</td>\n",
       "      <td>0.157</td>\n",
       "      <td>0.0514</td>\n",
       "    </tr>\n",
       "    <tr>\n",
       "      <th>2</th>\n",
       "      <td>0.1040</td>\n",
       "      <td>0.896</td>\n",
       "      <td>0.586</td>\n",
       "      <td>0.00000</td>\n",
       "      <td>0.790</td>\n",
       "      <td>0.0559</td>\n",
       "    </tr>\n",
       "    <tr>\n",
       "      <th>3</th>\n",
       "      <td>0.0686</td>\n",
       "      <td>0.674</td>\n",
       "      <td>0.774</td>\n",
       "      <td>0.00188</td>\n",
       "      <td>0.393</td>\n",
       "      <td>0.0892</td>\n",
       "    </tr>\n",
       "    <tr>\n",
       "      <th>4</th>\n",
       "      <td>0.3050</td>\n",
       "      <td>0.863</td>\n",
       "      <td>0.631</td>\n",
       "      <td>0.00003</td>\n",
       "      <td>0.123</td>\n",
       "      <td>0.0534</td>\n",
       "    </tr>\n",
       "  </tbody>\n",
       "</table>\n",
       "</div>"
      ],
      "text/plain": [
       "   acousticness  danceability  energy  instrumentalness  liveness  speechiness\n",
       "0        0.7310         0.726   0.431           0.00000     0.696       0.1350\n",
       "1        0.2330         0.716   0.537           0.00000     0.157       0.0514\n",
       "2        0.1040         0.896   0.586           0.00000     0.790       0.0559\n",
       "3        0.0686         0.674   0.774           0.00188     0.393       0.0892\n",
       "4        0.3050         0.863   0.631           0.00003     0.123       0.0534"
      ]
     },
     "execution_count": 4,
     "metadata": {},
     "output_type": "execute_result"
    }
   ],
   "source": [
    "df.head()"
   ]
  },
  {
   "cell_type": "code",
   "execution_count": 5,
   "metadata": {},
   "outputs": [],
   "source": [
    "df = (df-df.min()/df.max()-df.min())"
   ]
  },
  {
   "cell_type": "code",
   "execution_count": 21,
   "metadata": {},
   "outputs": [],
   "source": [
    "meta = df.values"
   ]
  },
  {
   "cell_type": "code",
   "execution_count": 22,
   "metadata": {},
   "outputs": [
    {
     "data": {
      "text/plain": [
       "(40000, 6)"
      ]
     },
     "execution_count": 22,
     "metadata": {},
     "output_type": "execute_result"
    }
   ],
   "source": [
    "meta.shape"
   ]
  },
  {
   "cell_type": "code",
   "execution_count": 17,
   "metadata": {},
   "outputs": [
    {
     "data": {
      "text/plain": [
       "(40000, 3)"
      ]
     },
     "execution_count": 17,
     "metadata": {},
     "output_type": "execute_result"
    }
   ],
   "source": [
    "from sklearn.decomposition import PCA\n",
    "\n",
    "pca = PCA(n_components=3)\n",
    "meta = pca.fit_transform(meta)\n",
    "meta.shape"
   ]
  },
  {
   "cell_type": "code",
   "execution_count": 24,
   "metadata": {},
   "outputs": [],
   "source": [
    "from sklearn.metrics.pairwise import cosine_similarity\n",
    "\n",
    "cosine_sim = cosine_similarity(meta, meta)"
   ]
  },
  {
   "cell_type": "code",
   "execution_count": 25,
   "metadata": {},
   "outputs": [],
   "source": [
    "def get_recommendations(idx, cosine_sim=cosine_sim):\n",
    "    \n",
    "    sim_scores = list(enumerate(cosine_sim[idx]))\n",
    "\n",
    "    # Sort the songs based on the similarity scores\n",
    "    sim_scores = sorted(sim_scores, key=lambda x: x[1], reverse=True)\n",
    "\n",
    "    # Get the scores of the 10 most similar songs\n",
    "    sim_scores = sim_scores[1:11]\n",
    "\n",
    "    # Get the song indices\n",
    "    song_index = [i[0] for i in sim_scores]\n",
    "    song_index = song_index\n",
    "    # Return the top 10 most similar songs\n",
    "    return song_index"
   ]
  },
  {
   "cell_type": "code",
   "execution_count": 33,
   "metadata": {},
   "outputs": [
    {
     "name": "stdout",
     "output_type": "stream",
     "text": [
      "[14051, 37354, 22396, 39169, 4196, 4159, 25723, 27361, 11183, 25912]\n",
      "Song recommendations for: Photograph\n",
      "\n",
      "In Your Arms by [\"ChefSpecial\"]\n",
      "\n",
      "\n",
      "I'm Gonna Be Ready by Yolanda Adams\n",
      "\n",
      "\n",
      "Paper Bag by Fiona Apple\n",
      "\n",
      "\n",
      "Detroit City by Bobby Bare\n",
      "\n",
      "\n",
      "Throwaway (with Clairo) by SG Lewis, Clairo\n",
      "\n",
      "\n",
      "The One That Got Away - Acoustic by Katy Perry\n",
      "\n",
      "\n",
      "Lady Stardust - 2012 Remaster by David Bowie\n",
      "\n",
      "\n",
      "Never Fade by Jack Johnson\n",
      "\n",
      "\n",
      "What Dreams Are Made Of by Evann McIntosh\n",
      "\n",
      "\n",
      "第一次 by Michael Wong\n",
      "\n",
      "\n"
     ]
    }
   ],
   "source": [
    "identifier = 8276\n",
    "\n",
    "recoms = get_recommendations(identifier)\n",
    "#recoms.sort(reverse=True)\n",
    "print(recoms)\n",
    "\n",
    "print(\"Song recommendations for: \" + song_names.iloc[identifier, song_names.columns.get_loc(\"name\")])\n",
    "print()\n",
    "for i in recoms:\n",
    "    print(song_names.iloc[i, song_names.columns.get_loc(\"name\")] + \" by \" +\\\n",
    "         song_names.iloc[i, song_names.columns.get_loc(\"artists\")])\n",
    "    print(\"\\n\")"
   ]
  },
  {
   "cell_type": "code",
   "execution_count": null,
   "metadata": {},
   "outputs": [],
   "source": []
  }
 ],
 "metadata": {
  "kernelspec": {
   "display_name": "Python 3",
   "language": "python",
   "name": "python3"
  },
  "language_info": {
   "codemirror_mode": {
    "name": "ipython",
    "version": 3
   },
   "file_extension": ".py",
   "mimetype": "text/x-python",
   "name": "python",
   "nbconvert_exporter": "python",
   "pygments_lexer": "ipython3",
   "version": "3.8.4"
  }
 },
 "nbformat": 4,
 "nbformat_minor": 4
}
